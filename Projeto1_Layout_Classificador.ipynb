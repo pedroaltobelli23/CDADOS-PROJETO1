{
 "cells": [
  {
   "cell_type": "markdown",
   "metadata": {},
   "source": [
    "# Projeto 1 - Ciência dos Dados"
   ]
  },
  {
   "cell_type": "markdown",
   "metadata": {},
   "source": [
    "Nome: _____\n",
    "\n",
    "Nome: _____"
   ]
  },
  {
   "cell_type": "markdown",
   "metadata": {},
   "source": [
    "Atenção: Serão permitidos grupos de três pessoas, mas com uma rubrica mais exigente. Grupos deste tamanho precisarão fazer um questionário de avaliação de trabalho em equipe"
   ]
  },
  {
   "cell_type": "markdown",
   "metadata": {},
   "source": [
    "___\n",
    "Carregando algumas bibliotecas:"
   ]
  },
  {
   "cell_type": "code",
   "execution_count": 1,
   "metadata": {},
   "outputs": [],
   "source": [
    "%matplotlib inline\n",
    "import pandas as pd\n",
    "import matplotlib.pyplot as plt\n",
    "import numpy as np\n",
    "import os"
   ]
  },
  {
   "cell_type": "code",
   "execution_count": 2,
   "metadata": {
    "scrolled": false
   },
   "outputs": [
    {
     "name": "stdout",
     "output_type": "stream",
     "text": [
      "Esperamos trabalhar no diretório\n",
      "C:\\Users\\pedro\\Documents\\GitHub\\CDADOS-PROJETO1\n"
     ]
    }
   ],
   "source": [
    "print('Esperamos trabalhar no diretório')\n",
    "print(os.getcwd())"
   ]
  },
  {
   "cell_type": "markdown",
   "metadata": {},
   "source": [
    "Carregando a base de dados com os tweets classificados como relevantes e não relevantes:"
   ]
  },
  {
   "cell_type": "code",
   "execution_count": 3,
   "metadata": {},
   "outputs": [],
   "source": [
    "filename = 'Burger King.xlsx'"
   ]
  },
  {
   "cell_type": "code",
   "execution_count": 4,
   "metadata": {},
   "outputs": [
    {
     "data": {
      "text/html": [
       "<div>\n",
       "<style scoped>\n",
       "    .dataframe tbody tr th:only-of-type {\n",
       "        vertical-align: middle;\n",
       "    }\n",
       "\n",
       "    .dataframe tbody tr th {\n",
       "        vertical-align: top;\n",
       "    }\n",
       "\n",
       "    .dataframe thead th {\n",
       "        text-align: right;\n",
       "    }\n",
       "</style>\n",
       "<table border=\"1\" class=\"dataframe\">\n",
       "  <thead>\n",
       "    <tr style=\"text-align: right;\">\n",
       "      <th></th>\n",
       "      <th>Treinamento</th>\n",
       "      <th>B</th>\n",
       "    </tr>\n",
       "  </thead>\n",
       "  <tbody>\n",
       "    <tr>\n",
       "      <th>0</th>\n",
       "      <td>queria um burger king agora https://t.co/ddr6r...</td>\n",
       "      <td>1</td>\n",
       "    </tr>\n",
       "    <tr>\n",
       "      <th>1</th>\n",
       "      <td>as vezes publicitários me irritam tanto q tive...</td>\n",
       "      <td>1</td>\n",
       "    </tr>\n",
       "    <tr>\n",
       "      <th>2</th>\n",
       "      <td>ano que vem burger king vai ta patrocinando a ...</td>\n",
       "      <td>0</td>\n",
       "    </tr>\n",
       "    <tr>\n",
       "      <th>3</th>\n",
       "      <td>só um burger king, é sobre isso</td>\n",
       "      <td>0</td>\n",
       "    </tr>\n",
       "    <tr>\n",
       "      <th>4</th>\n",
       "      <td>minha fome tem nome específico  burger king o ...</td>\n",
       "      <td>1</td>\n",
       "    </tr>\n",
       "    <tr>\n",
       "      <th>5</th>\n",
       "      <td>eu odeio o marketing do burger king\\nmas eu od...</td>\n",
       "      <td>1</td>\n",
       "    </tr>\n",
       "    <tr>\n",
       "      <th>6</th>\n",
       "      <td>burger king sai da economia por você espero mi...</td>\n",
       "      <td>0</td>\n",
       "    </tr>\n",
       "    <tr>\n",
       "      <th>7</th>\n",
       "      <td>que saudade de ir no burger king</td>\n",
       "      <td>1</td>\n",
       "    </tr>\n",
       "    <tr>\n",
       "      <th>8</th>\n",
       "      <td>gostaria de propor uma rinha: burger king ou m...</td>\n",
       "      <td>0</td>\n",
       "    </tr>\n",
       "    <tr>\n",
       "      <th>9</th>\n",
       "      <td>off todas as vzs que peco no bk meu hamburguer...</td>\n",
       "      <td>1</td>\n",
       "    </tr>\n",
       "    <tr>\n",
       "      <th>10</th>\n",
       "      <td>@burgerkingbr mas é verdade mesmo, o que o big...</td>\n",
       "      <td>1</td>\n",
       "    </tr>\n",
       "    <tr>\n",
       "      <th>11</th>\n",
       "      <td>rt @victortameirao: mcdonald’s é melhor que bu...</td>\n",
       "      <td>0</td>\n",
       "    </tr>\n",
       "    <tr>\n",
       "      <th>12</th>\n",
       "      <td>comendo um burger king com uma coca cola gelad...</td>\n",
       "      <td>1</td>\n",
       "    </tr>\n",
       "    <tr>\n",
       "      <th>13</th>\n",
       "      <td>burger king pode fazer um lanche de 3kg e aind...</td>\n",
       "      <td>1</td>\n",
       "    </tr>\n",
       "    <tr>\n",
       "      <th>14</th>\n",
       "      <td>bloqueei o burger king marketing de merda do c...</td>\n",
       "      <td>1</td>\n",
       "    </tr>\n",
       "    <tr>\n",
       "      <th>15</th>\n",
       "      <td>aqui apoiamos a rivalidade entre fastfood. aqu...</td>\n",
       "      <td>0</td>\n",
       "    </tr>\n",
       "    <tr>\n",
       "      <th>16</th>\n",
       "      <td>@gookirlovy só quando eu faço, não gosto de mc...</td>\n",
       "      <td>0</td>\n",
       "    </tr>\n",
       "    <tr>\n",
       "      <th>17</th>\n",
       "      <td>o burger king é o melhor cara, não dá kkkkkkkk...</td>\n",
       "      <td>1</td>\n",
       "    </tr>\n",
       "    <tr>\n",
       "      <th>18</th>\n",
       "      <td>parece que ela ganhou um brinde no burger king...</td>\n",
       "      <td>0</td>\n",
       "    </tr>\n",
       "    <tr>\n",
       "      <th>19</th>\n",
       "      <td>esse anúncio do burger king se comparando com ...</td>\n",
       "      <td>1</td>\n",
       "    </tr>\n",
       "    <tr>\n",
       "      <th>20</th>\n",
       "      <td>por que diabos o burger king ta insistindo nes...</td>\n",
       "      <td>1</td>\n",
       "    </tr>\n",
       "    <tr>\n",
       "      <th>21</th>\n",
       "      <td>a deb me deu burger king agora no lanche eu ne...</td>\n",
       "      <td>0</td>\n",
       "    </tr>\n",
       "    <tr>\n",
       "      <th>22</th>\n",
       "      <td>vamos ser sinceros, burger king é muito melhor...</td>\n",
       "      <td>1</td>\n",
       "    </tr>\n",
       "    <tr>\n",
       "      <th>23</th>\n",
       "      <td>@htinhacomuna leva as crianças pra escola numa...</td>\n",
       "      <td>0</td>\n",
       "    </tr>\n",
       "    <tr>\n",
       "      <th>24</th>\n",
       "      <td>rt @spacecowguy: que moral o burger king tem p...</td>\n",
       "      <td>1</td>\n",
       "    </tr>\n",
       "    <tr>\n",
       "      <th>25</th>\n",
       "      <td>meu deus um combo muito barato no burger king ...</td>\n",
       "      <td>0</td>\n",
       "    </tr>\n",
       "    <tr>\n",
       "      <th>26</th>\n",
       "      <td>@bkxeroso mas se eu piscar p ele vc fica solte...</td>\n",
       "      <td>0</td>\n",
       "    </tr>\n",
       "    <tr>\n",
       "      <th>27</th>\n",
       "      <td>man vcs viram a propaganda nova do burger king?</td>\n",
       "      <td>0</td>\n",
       "    </tr>\n",
       "    <tr>\n",
       "      <th>28</th>\n",
       "      <td>@thaisblznegra @mcdonalds_br @burgerkingbr bur...</td>\n",
       "      <td>0</td>\n",
       "    </tr>\n",
       "    <tr>\n",
       "      <th>29</th>\n",
       "      <td>burger king é melhor que mc donald's né?</td>\n",
       "      <td>0</td>\n",
       "    </tr>\n",
       "  </tbody>\n",
       "</table>\n",
       "</div>"
      ],
      "text/plain": [
       "                                          Treinamento  B\n",
       "0   queria um burger king agora https://t.co/ddr6r...  1\n",
       "1   as vezes publicitários me irritam tanto q tive...  1\n",
       "2   ano que vem burger king vai ta patrocinando a ...  0\n",
       "3                     só um burger king, é sobre isso  0\n",
       "4   minha fome tem nome específico  burger king o ...  1\n",
       "5   eu odeio o marketing do burger king\\nmas eu od...  1\n",
       "6   burger king sai da economia por você espero mi...  0\n",
       "7                    que saudade de ir no burger king  1\n",
       "8   gostaria de propor uma rinha: burger king ou m...  0\n",
       "9   off todas as vzs que peco no bk meu hamburguer...  1\n",
       "10  @burgerkingbr mas é verdade mesmo, o que o big...  1\n",
       "11  rt @victortameirao: mcdonald’s é melhor que bu...  0\n",
       "12  comendo um burger king com uma coca cola gelad...  1\n",
       "13  burger king pode fazer um lanche de 3kg e aind...  1\n",
       "14  bloqueei o burger king marketing de merda do c...  1\n",
       "15  aqui apoiamos a rivalidade entre fastfood. aqu...  0\n",
       "16  @gookirlovy só quando eu faço, não gosto de mc...  0\n",
       "17  o burger king é o melhor cara, não dá kkkkkkkk...  1\n",
       "18  parece que ela ganhou um brinde no burger king...  0\n",
       "19  esse anúncio do burger king se comparando com ...  1\n",
       "20  por que diabos o burger king ta insistindo nes...  1\n",
       "21  a deb me deu burger king agora no lanche eu ne...  0\n",
       "22  vamos ser sinceros, burger king é muito melhor...  1\n",
       "23  @htinhacomuna leva as crianças pra escola numa...  0\n",
       "24  rt @spacecowguy: que moral o burger king tem p...  1\n",
       "25  meu deus um combo muito barato no burger king ...  0\n",
       "26  @bkxeroso mas se eu piscar p ele vc fica solte...  0\n",
       "27    man vcs viram a propaganda nova do burger king?  0\n",
       "28  @thaisblznegra @mcdonalds_br @burgerkingbr bur...  0\n",
       "29           burger king é melhor que mc donald's né?  0"
      ]
     },
     "execution_count": 4,
     "metadata": {},
     "output_type": "execute_result"
    }
   ],
   "source": [
    "train = pd.read_excel(filename)\n",
    "train.head(30)"
   ]
  },
  {
   "cell_type": "code",
   "execution_count": 5,
   "metadata": {
    "scrolled": true
   },
   "outputs": [
    {
     "data": {
      "text/html": [
       "<div>\n",
       "<style scoped>\n",
       "    .dataframe tbody tr th:only-of-type {\n",
       "        vertical-align: middle;\n",
       "    }\n",
       "\n",
       "    .dataframe tbody tr th {\n",
       "        vertical-align: top;\n",
       "    }\n",
       "\n",
       "    .dataframe thead th {\n",
       "        text-align: right;\n",
       "    }\n",
       "</style>\n",
       "<table border=\"1\" class=\"dataframe\">\n",
       "  <thead>\n",
       "    <tr style=\"text-align: right;\">\n",
       "      <th></th>\n",
       "      <th>Teste</th>\n",
       "      <th>B</th>\n",
       "    </tr>\n",
       "  </thead>\n",
       "  <tbody>\n",
       "    <tr>\n",
       "      <th>0</th>\n",
       "      <td>rt @_bradachi: mc donalds é melhor que burger ...</td>\n",
       "      <td>1</td>\n",
       "    </tr>\n",
       "    <tr>\n",
       "      <th>1</th>\n",
       "      <td>mds eu acabei de ver uma propagando no yt do b...</td>\n",
       "      <td>1</td>\n",
       "    </tr>\n",
       "    <tr>\n",
       "      <th>2</th>\n",
       "      <td>@burgerkingbr todas as vezes que fui no burger...</td>\n",
       "      <td>1</td>\n",
       "    </tr>\n",
       "    <tr>\n",
       "      <th>3</th>\n",
       "      <td>@souamorgan eu te entendo... tipo logo abaixo ...</td>\n",
       "      <td>1</td>\n",
       "    </tr>\n",
       "    <tr>\n",
       "      <th>4</th>\n",
       "      <td>ifood e burger king sempre deixa forte kkk 🙅💪😅</td>\n",
       "      <td>0</td>\n",
       "    </tr>\n",
       "  </tbody>\n",
       "</table>\n",
       "</div>"
      ],
      "text/plain": [
       "                                               Teste  B\n",
       "0  rt @_bradachi: mc donalds é melhor que burger ...  1\n",
       "1  mds eu acabei de ver uma propagando no yt do b...  1\n",
       "2  @burgerkingbr todas as vezes que fui no burger...  1\n",
       "3  @souamorgan eu te entendo... tipo logo abaixo ...  1\n",
       "4     ifood e burger king sempre deixa forte kkk 🙅💪😅  0"
      ]
     },
     "execution_count": 5,
     "metadata": {},
     "output_type": "execute_result"
    }
   ],
   "source": [
    "test = pd.read_excel(filename, sheet_name = 'Teste')\n",
    "test.head(5)"
   ]
  },
  {
   "cell_type": "markdown",
   "metadata": {},
   "source": [
    "___\n",
    "## Classificador automático de sentimento\n"
   ]
  },
  {
   "cell_type": "markdown",
   "metadata": {},
   "source": [
    "Faça aqui uma descrição do seu produto e o que considerou como relevante ou não relevante na classificação dos tweets.\n",
    "\n",
    "*O nosso produto é a marca Burger King.Consideramos relevante tudo aquilo que falava positivamente ou negativamente sobre nosso produto."
   ]
  },
  {
   "cell_type": "markdown",
   "metadata": {},
   "source": [
    "___\n",
    "### Montando um Classificador Naive-Bayes\n",
    "\n",
    "Considerando apenas as mensagens da planilha Treinamento, ensine  seu classificador."
   ]
  },
  {
   "cell_type": "code",
   "execution_count": 6,
   "metadata": {
    "scrolled": false
   },
   "outputs": [],
   "source": [
    "#LIMPADOR DE PLAVRAS V.10000000\n",
    "import re \n",
    "i=0\n",
    "def cleanup(text):\n",
    "\n",
    "    punctuation = '[!-.:?;/,\"\"''@#$%^&*()+=]'\n",
    "    pattern = re.compile(punctuation)\n",
    "    text_subbed = re.sub(pattern, '', text)\n",
    "    return text_subbed\n",
    "\n",
    "Train = train.copy()\n",
    "while i < len(train):\n",
    "    Train.loc[i,'Treinamento'] = cleanup(Train.loc[i,'Treinamento'])\n",
    "    i+= 1\n",
    "    \n",
    "#A pd.Series Train contem a tabela train porem sem os caracteres \n",
    "\n",
    "#Criando uma serie com as palavras relevantes e nao relevantes e fazer tabela de frequencia delas\n",
    "palavras = Train.loc[Train['B'] == 1]\n",
    "palavras = palavras['Treinamento'].tolist()\n",
    "palavras = \" \".join(palavras)\n",
    "palavras = palavras.split()\n",
    "serie_palavras_relevantes = pd.Series(palavras) #serie_palavras_relevantes\n",
    "\n",
    "irrel = Train.loc[Train['B'] == 0]\n",
    "irrel = irrel['Treinamento'].tolist()\n",
    "irrel = \" \".join(irrel)\n",
    "irrel = irrel.split()\n",
    "serie_palavras_irrelevantes = pd.Series(irrel) #serie_palavras_irrelevantes\n",
    "\n",
    "tabela_relevantes = serie_palavras_relevantes.value_counts() #quantas vezes cada palavra relevante aparece\n",
    "tabela_irrelevantes = serie_palavras_irrelevantes.value_counts() #quantas vezes cada palavra irrelevante aparece\n",
    "tabela_relevantes_relativa = serie_palavras_relevantes.value_counts(sort=True,normalize=True) #frequencia relativa de todas as palavras relevantes\n",
    "tabela_irrelevantes_relativa = serie_palavras_irrelevantes.value_counts(sort=True,normalize=True) #frequencia relativa de todas as palavras irrelevantes\n",
    "\n",
    "portugues = palavras + irrel #todas as palavras\n",
    "serie_portugues = pd.Series(portugues)\n",
    "tabela_portugues = serie_portugues.value_counts() #quantas vezes cada palavra aparece na planilha\n",
    "tabela_portugues_relativa = serie_portugues.value_counts(sort=True,normalize=True)"
   ]
  },
  {
   "cell_type": "code",
   "execution_count": 7,
   "metadata": {},
   "outputs": [
    {
     "data": {
      "text/plain": [
       "0.057594747836466724"
      ]
     },
     "execution_count": 7,
     "metadata": {},
     "output_type": "execute_result"
    }
   ],
   "source": [
    "tabela_irrelevantes_relativa['burger']"
   ]
  },
  {
   "cell_type": "code",
   "execution_count": 15,
   "metadata": {
    "scrolled": true
   },
   "outputs": [
    {
     "data": {
      "text/plain": [
       "0      0\n",
       "1      0\n",
       "2      1\n",
       "3      0\n",
       "4      0\n",
       "      ..\n",
       "147    0\n",
       "148    0\n",
       "149    1\n",
       "150    0\n",
       "151    0\n",
       "Name: resultados, Length: 152, dtype: int64"
      ]
     },
     "execution_count": 15,
     "metadata": {},
     "output_type": "execute_result"
    }
   ],
   "source": [
    "#fazendo o classificador\n",
    "\n",
    "resultados = []\n",
    "\n",
    "def classificador(frase):\n",
    "        frase = cleanup(frase)\n",
    "        probR = tabela_relevantes.sum()/(tabela_irrelevantes.sum()+tabela_relevantes.sum())\n",
    "        probI = tabela_irrelevantes.sum()/(tabela_irrelevantes.sum()+tabela_relevantes.sum())\n",
    "        P_frase_relevante = 1\n",
    "        P_frase_irrelevante= 1\n",
    "        for palavra in frase.split():\n",
    "            if palavra in tabela_relevantes:\n",
    "                \n",
    "                Counts_Palavra_R = tabela_relevantes[palavra]\n",
    "                \n",
    "            else:\n",
    "                Counts_Palavra_R = 0\n",
    "\n",
    "            P_Palavra_R = (Counts_Palavra_R + 1) / (tabela_relevantes.sum() + tabela_portugues.sum())\n",
    "            \n",
    "            P_frase_relevante *= P_Palavra_R\n",
    "            \n",
    "            if palavra in tabela_irrelevantes:\n",
    "                Counts_Palavra_I = tabela_irrelevantes[palavra]\n",
    "                \n",
    "            else:\n",
    "                Counts_Palavra_I = 0\n",
    "            \n",
    "            P_Palavra_I = (Counts_Palavra_I + 1) / (tabela_irrelevantes.sum() + tabela_portugues.sum())\n",
    "            P_frase_irrelevante *= P_Palavra_I\n",
    "            \n",
    "\n",
    "        P_R_dado_frase = P_frase_relevante*probR\n",
    "        P_I_dado_frase = P_frase_irrelevante*probI\n",
    "        \n",
    "        if P_R_dado_frase > P_I_dado_frase:\n",
    "\n",
    "            return 1\n",
    "        else :\n",
    "            \n",
    "            return 0\n",
    "        \n",
    "        "
   ]
  },
  {
   "cell_type": "code",
   "execution_count": null,
   "metadata": {},
   "outputs": [],
   "source": []
  },
  {
   "cell_type": "markdown",
   "metadata": {},
   "source": [
    "___\n",
    "### Verificando a performance do Classificador\n",
    "\n",
    "Agora você deve testar o seu classificador com a base de Testes."
   ]
  },
  {
   "cell_type": "code",
   "execution_count": 35,
   "metadata": {},
   "outputs": [
    {
     "name": "stdout",
     "output_type": "stream",
     "text": [
      "porcentagem verdadeiros negativos:0.45394736842105265\n",
      "\n",
      "porcentagem verdadeiros positivos:0.06578947368421052\n",
      "\n",
      "porcentagem falsos negativos:0.39473684210526316\n",
      "\n",
      "porcentagem falsos positivos:0.08552631578947369\n",
      "\n"
     ]
    },
    {
     "data": {
      "text/html": [
       "<div>\n",
       "<style scoped>\n",
       "    .dataframe tbody tr th:only-of-type {\n",
       "        vertical-align: middle;\n",
       "    }\n",
       "\n",
       "    .dataframe tbody tr th {\n",
       "        vertical-align: top;\n",
       "    }\n",
       "\n",
       "    .dataframe thead th {\n",
       "        text-align: right;\n",
       "    }\n",
       "</style>\n",
       "<table border=\"1\" class=\"dataframe\">\n",
       "  <thead>\n",
       "    <tr style=\"text-align: right;\">\n",
       "      <th>B</th>\n",
       "      <th>0</th>\n",
       "      <th>1</th>\n",
       "    </tr>\n",
       "    <tr>\n",
       "      <th>resultados</th>\n",
       "      <th></th>\n",
       "      <th></th>\n",
       "    </tr>\n",
       "  </thead>\n",
       "  <tbody>\n",
       "    <tr>\n",
       "      <th>0</th>\n",
       "      <td>0.453947</td>\n",
       "      <td>0.394737</td>\n",
       "    </tr>\n",
       "    <tr>\n",
       "      <th>1</th>\n",
       "      <td>0.085526</td>\n",
       "      <td>0.065789</td>\n",
       "    </tr>\n",
       "  </tbody>\n",
       "</table>\n",
       "</div>"
      ],
      "text/plain": [
       "B                  0         1\n",
       "resultados                    \n",
       "0           0.453947  0.394737\n",
       "1           0.085526  0.065789"
      ]
     },
     "execution_count": 35,
     "metadata": {},
     "output_type": "execute_result"
    }
   ],
   "source": [
    "\n",
    "for frase in test['Teste']:\n",
    "    resultado = classificador(frase)\n",
    "    resultados.append(resultado)\n",
    "        \n",
    "test['resultados'] = pd.Series(resultados)\n",
    "\n",
    "\n",
    "verd_negativos = pd.crosstab(test['resultados'], test['B'],normalize=True)[0][0]\n",
    "verd_positivos = pd.crosstab(test['resultados'], test['B'],normalize=True)[1][1]\n",
    "falso_negativos = pd.crosstab(test['resultados'], test['B'],normalize=True)[1][0]\n",
    "falso_positivo = pd.crosstab(test['resultados'], test['B'],normalize=True)[0][1]\n",
    "print(\"porcentagem verdadeiros negativos:{0}\\n\".format(verd_negativos))\n",
    "print(\"porcentagem verdadeiros positivos:{0}\\n\".format(verd_positivos))\n",
    "print(\"porcentagem falsos negativos:{0}\\n\".format(falso_negativos))\n",
    "print(\"porcentagem falsos positivos:{0}\\n\".format(falso_positivo))\n",
    "pd.crosstab(test['resultados'], test['B'],normalize=True)"
   ]
  },
  {
   "cell_type": "code",
   "execution_count": null,
   "metadata": {},
   "outputs": [],
   "source": []
  },
  {
   "cell_type": "code",
   "execution_count": null,
   "metadata": {},
   "outputs": [],
   "source": []
  },
  {
   "cell_type": "markdown",
   "metadata": {},
   "source": [
    "___\n",
    "### Concluindo"
   ]
  },
  {
   "cell_type": "code",
   "execution_count": null,
   "metadata": {},
   "outputs": [],
   "source": [
    "    "
   ]
  },
  {
   "cell_type": "code",
   "execution_count": null,
   "metadata": {},
   "outputs": [],
   "source": []
  },
  {
   "cell_type": "code",
   "execution_count": null,
   "metadata": {},
   "outputs": [],
   "source": []
  },
  {
   "cell_type": "markdown",
   "metadata": {},
   "source": [
    "___\n",
    "### Qualidade do Classificador a partir de novas separações dos tweets entre Treinamento e Teste\n",
    "\n",
    "Caso for fazer esse item do Projeto"
   ]
  },
  {
   "cell_type": "code",
   "execution_count": null,
   "metadata": {},
   "outputs": [],
   "source": []
  },
  {
   "cell_type": "code",
   "execution_count": null,
   "metadata": {},
   "outputs": [],
   "source": []
  },
  {
   "cell_type": "code",
   "execution_count": null,
   "metadata": {},
   "outputs": [],
   "source": []
  },
  {
   "cell_type": "markdown",
   "metadata": {},
   "source": [
    "___\n",
    "## Aperfeiçoamento:\n",
    "\n",
    "Os trabalhos vão evoluir em conceito dependendo da quantidade de itens avançados:\n",
    "\n",
    "* Limpar: \\n, :, \", ', (, ), etc SEM remover emojis\n",
    "* Corrigir separação de espaços entre palavras e emojis ou entre emojis e emojis\n",
    "* Propor outras limpezas e transformações que não afetem a qualidade da informação ou classificação\n",
    "* Criar categorias intermediárias de relevância baseadas na probabilidade: ex.: muito relevante, relevante, neutro, irrelevante, muito irrelevante (3 categorias: C, mais categorias conta para B)\n",
    "* Explicar por que não posso usar o próprio classificador para gerar mais amostras de treinamento\n",
    "* Propor diferentes cenários para Naïve Bayes fora do contexto do projeto\n",
    "* Sugerir e explicar melhorias reais com indicações concretas de como implementar (indicar como fazer e indicar material de pesquisa)\n"
   ]
  },
  {
   "cell_type": "markdown",
   "metadata": {},
   "source": [
    "___\n",
    "## Referências"
   ]
  },
  {
   "cell_type": "markdown",
   "metadata": {},
   "source": [
    "[Naive Bayes and Text Classification](https://arxiv.org/pdf/1410.5329.pdf)  **Mais completo**\n",
    "\n",
    "[A practical explanation of a Naive Bayes Classifier](https://monkeylearn.com/blog/practical-explanation-naive-bayes-classifier/) **Mais simples**"
   ]
  },
  {
   "cell_type": "code",
   "execution_count": null,
   "metadata": {},
   "outputs": [],
   "source": []
  },
  {
   "cell_type": "code",
   "execution_count": null,
   "metadata": {},
   "outputs": [],
   "source": []
  }
 ],
 "metadata": {
  "kernelspec": {
   "display_name": "Python 3",
   "language": "python",
   "name": "python3"
  },
  "language_info": {
   "codemirror_mode": {
    "name": "ipython",
    "version": 3
   },
   "file_extension": ".py",
   "mimetype": "text/x-python",
   "name": "python",
   "nbconvert_exporter": "python",
   "pygments_lexer": "ipython3",
   "version": "3.8.3"
  }
 },
 "nbformat": 4,
 "nbformat_minor": 4
}
